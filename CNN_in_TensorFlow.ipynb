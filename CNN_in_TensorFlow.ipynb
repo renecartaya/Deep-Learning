{
 "cells": [
  {
   "cell_type": "code",
   "execution_count": 1,
   "id": "6f3268d8-9e05-4e3f-8adc-47ef5736f867",
   "metadata": {},
   "outputs": [],
   "source": [
    "############################################################################################################################\n",
    "#\n",
    "#                               Convolutional Neural Networks (CNN) in TensorFlow\n",
    "#\n",
    "############################################################################################################################"
   ]
  },
  {
   "cell_type": "code",
   "execution_count": 22,
   "id": "2e2b571a-b63c-42ea-866d-5a5c85d05237",
   "metadata": {},
   "outputs": [],
   "source": [
    "# # Requires the latest pip\n",
    "#pip install --upgrade pip\n",
    "\n",
    "# Current stable release for CPU and GPU\n",
    "#pip install tensorflow\n",
    "\n",
    "# Or try the preview build (unstable)\n",
    "#pip install tf-nightly\n"
   ]
  },
  {
   "cell_type": "code",
   "execution_count": 23,
   "id": "26d83779-348a-40d5-becd-6c96a980cfee",
   "metadata": {},
   "outputs": [],
   "source": [
    "import tensorflow.compat.v1 as tf\n",
    "import numpy as np\n",
    "#from tensorflow import truncated_normal"
   ]
  },
  {
   "cell_type": "code",
   "execution_count": 24,
   "id": "43c60f9f-3ba3-4527-859d-b5725552d8a0",
   "metadata": {},
   "outputs": [],
   "source": [
    "#We can create constants and variables of different types. \n",
    "#However, the different types do not mix well together.\n",
    "\n",
    "a = tf.constant(2, tf.int16)\n",
    "b = tf.constant(4, tf.float32)\n",
    "c = tf.constant(8, tf.float32)\n",
    " \n",
    "d = tf.Variable(2, tf.int16)\n",
    "e = tf.Variable(4, tf.float32)\n",
    "f = tf.Variable(8, tf.float32)"
   ]
  },
  {
   "cell_type": "code",
   "execution_count": 25,
   "id": "38d5fc2b-62c8-4c64-922e-3b882f863b50",
   "metadata": {},
   "outputs": [],
   "source": [
    "g = tf.constant(np.zeros(shape=(2,2), dtype=np.float32)) #does work\n",
    " \n",
    "h = tf.zeros([11], tf.int16)\n",
    "i = tf.ones([2,2], tf.float32)\n",
    "j = tf.zeros([1000,4,3], tf.float64)\n",
    " \n",
    "k = tf.Variable(tf.zeros([2,2], tf.float32))\n",
    "l = tf.Variable(tf.zeros([5,6,5], tf.float32))"
   ]
  },
  {
   "cell_type": "code",
   "execution_count": 26,
   "id": "4a01c37a-38b1-4ad7-b713-499c234bf126",
   "metadata": {},
   "outputs": [
    {
     "name": "stdout",
     "output_type": "stream",
     "text": [
      "[65536, 10]\n",
      "[10]\n"
     ]
    }
   ],
   "source": [
    "weights = tf.Variable(tf.truncated_normal([256 * 256, 10]))\n",
    "biases = tf.Variable(tf.zeros([10]))\n",
    "print(weights.get_shape().as_list())\n",
    "print(biases.get_shape().as_list())"
   ]
  },
  {
   "cell_type": "code",
   "execution_count": 46,
   "id": "c14da5dd-52ba-488e-a084-767f0b0d55f6",
   "metadata": {},
   "outputs": [
    {
     "ename": "SyntaxError",
     "evalue": "invalid syntax (Temp/ipykernel_9484/3326179259.py, line 12)",
     "output_type": "error",
     "traceback": [
      "\u001b[1;36m  File \u001b[1;32m\"C:\\Users\\renea\\AppData\\Local\\Temp/ipykernel_9484/3326179259.py\"\u001b[1;36m, line \u001b[1;32m12\u001b[0m\n\u001b[1;33m    <tf.Variable 'Variable_2:0' shape=() dtype=int32_ref>\u001b[0m\n\u001b[1;37m    ^\u001b[0m\n\u001b[1;31mSyntaxError\u001b[0m\u001b[1;31m:\u001b[0m invalid syntax\n"
     ]
    }
   ],
   "source": [
    "graph = tf.Graph()\n",
    "with graph.as_default():\n",
    "    a = tf.Variable(8, tf.float32)\n",
    "    b = tf.Variable(tf.zeros([2,2], tf.float32))\n",
    "    \n",
    "with tf.Session(graph=graph) as session:\n",
    "    tf.global_variables_initializer().run()\n",
    "    print(f)\n",
    "    print(session.run(f))\n",
    "    print(session.run(k))\n",
    "    \n",
    "    <tf.Variable 'Variable_2:0' shape=() dtype=int32_ref>"
   ]
  },
  {
   "cell_type": "code",
   "execution_count": 43,
   "id": "4648c154-e181-4945-8741-d0f0a16bd414",
   "metadata": {},
   "outputs": [
    {
     "name": "stdout",
     "output_type": "stream",
     "text": [
      "the distance between [[1 2]] and [[15 16]] -> [19.79899]\n",
      "the distance between [[3 4]] and [[13 14]] -> [14.142136]\n",
      "the distance between [[5 6]] and [[11 12]] -> [8.485281]\n",
      "the distance between [[7 8]] and [[ 9 10]] -> [2.828427]\n"
     ]
    }
   ],
   "source": [
    "list_of_points1_ = [[1,2], [3,4], [5,6], [7,8]]\n",
    "list_of_points2_ = [[15,16], [13,14], [11,12], [9,10]]\n",
    "list_of_points1 = np.array([np.array(elem).reshape(1,2) for elem in list_of_points1_])\n",
    "list_of_points2 = np.array([np.array(elem).reshape(1,2) for elem in list_of_points2_])\n",
    " \n",
    "graph = tf.Graph()\n",
    "with graph.as_default():   \n",
    "    #we should use a tf.placeholder() to create a variable whose value you will fill in later (during session.run()). \n",
    "    #this can be done by 'feeding' the data into the placeholder.\n",
    "    #below we see an example of a method which uses two placeholder arrays of size [2,1] to calculate the eucledian distance\n",
    " \n",
    "    point1 = tf.placeholder(tf.float32, shape=(1, 2))\n",
    "    point2 = tf.placeholder(tf.float32, shape=(1, 2))\n",
    "    \n",
    "    def calculate_eucledian_distance(point1, point2):\n",
    "        difference = tf.subtract(point1, point2)\n",
    "        power2 = tf.pow(difference, tf.constant(2.0, shape=(1,2)))\n",
    "        add = tf.reduce_sum(power2)\n",
    "        eucledian_distance = tf.sqrt(add)\n",
    "        return eucledian_distance\n",
    "    \n",
    "    dist = calculate_eucledian_distance(point1, point2)\n",
    "    \n",
    "with tf.Session(graph=graph) as session:\n",
    "    tf.global_variables_initializer().run()   \n",
    "    for ii in range(len(list_of_points1)):\n",
    "        point1_ = list_of_points1[ii]\n",
    "        point2_ = list_of_points2[ii]\n",
    "        feed_dict = {point1 : point1_, point2 : point2_}\n",
    "        distance = session.run([dist], feed_dict=feed_dict)\n",
    "        print(\"the distance between {} and {} -> {}\".format(point1_, point2_, distance))"
   ]
  },
  {
   "cell_type": "code",
   "execution_count": null,
   "id": "7905c6a9-9592-43ad-981e-8c8cb7cdf7a8",
   "metadata": {},
   "outputs": [],
   "source": []
  }
 ],
 "metadata": {
  "kernelspec": {
   "display_name": "Python 3 (ipykernel)",
   "language": "python",
   "name": "python3"
  },
  "language_info": {
   "codemirror_mode": {
    "name": "ipython",
    "version": 3
   },
   "file_extension": ".py",
   "mimetype": "text/x-python",
   "name": "python",
   "nbconvert_exporter": "python",
   "pygments_lexer": "ipython3",
   "version": "3.9.7"
  }
 },
 "nbformat": 4,
 "nbformat_minor": 5
}
